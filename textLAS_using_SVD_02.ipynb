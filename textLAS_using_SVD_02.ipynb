{
  "nbformat": 4,
  "nbformat_minor": 0,
  "metadata": {
    "colab": {
      "provenance": []
    },
    "kernelspec": {
      "name": "python3",
      "display_name": "Python 3"
    },
    "language_info": {
      "name": "python"
    }
  },
  "cells": [
    {
      "cell_type": "code",
      "execution_count": null,
      "metadata": {
        "id": "ZCJgf8EWlfhj"
      },
      "outputs": [],
      "source": [
        "## Loading the  required libraries\n",
        "from sklearn.feature_extraction.text import TfidfVectorizer\n",
        "import pandas as pd\n",
        "import numpy as np\n",
        "from sklearn.decomposition import TruncatedSVD\n",
        "from sklearn.metrics.pairwise import cosine_similarity\n"
      ]
    },
    {
      "cell_type": "code",
      "source": [
        "## A toy example- a list of 5 documents are considered as corpus(means collection of documents)\n",
        "docs=['Romeo Juliet','Juliet O happy dagger','Romeo died dagger','Live free or die New-Hampshire motto','Did you know New-Hampshire New-England','Romeo in Japan']\n"
      ],
      "metadata": {
        "id": "R33Okg6QnL8g"
      },
      "execution_count": null,
      "outputs": []
    },
    {
      "cell_type": "code",
      "source": [
        "## Converting text to a structured form(Rows being documents and columns are the )\n",
        "tfidf=TfidfVectorizer()\n",
        "mat=tfidf.fit_transform(docs)\n",
        "mat\n"
      ],
      "metadata": {
        "colab": {
          "base_uri": "https://localhost:8080/"
        },
        "id": "42f-qmT8nL47",
        "outputId": "8a6d72cd-09a2-491d-ffe7-7f4ea39ae8e0"
      },
      "execution_count": null,
      "outputs": [
        {
          "output_type": "execute_result",
          "data": {
            "text/plain": [
              "<6x18 sparse matrix of type '<class 'numpy.float64'>'\n",
              "\twith 24 stored elements in Compressed Sparse Row format>"
            ]
          },
          "metadata": {},
          "execution_count": 35
        }
      ]
    },
    {
      "cell_type": "code",
      "source": [
        "#mat is a sparse matrix\n",
        "mat"
      ],
      "metadata": {
        "colab": {
          "base_uri": "https://localhost:8080/"
        },
        "id": "DdgYSg4LnLyH",
        "outputId": "0f8dbb6a-b9f9-48cd-a955-1ae3dbc01fad"
      },
      "execution_count": null,
      "outputs": [
        {
          "output_type": "execute_result",
          "data": {
            "text/plain": [
              "<6x18 sparse matrix of type '<class 'numpy.float64'>'\n",
              "\twith 24 stored elements in Compressed Sparse Row format>"
            ]
          },
          "metadata": {},
          "execution_count": 36
        }
      ]
    },
    {
      "cell_type": "code",
      "source": [
        "mat.todense()"
      ],
      "metadata": {
        "colab": {
          "base_uri": "https://localhost:8080/"
        },
        "id": "8-4YTnXBnLuq",
        "outputId": "87f7c0de-83c2-4415-8ed2-a8435dae4033"
      },
      "execution_count": null,
      "outputs": [
        {
          "output_type": "execute_result",
          "data": {
            "text/plain": [
              "matrix([[0.        , 0.        , 0.        , 0.        , 0.        ,\n",
              "         0.        , 0.        , 0.        , 0.        , 0.        ,\n",
              "         0.7640961 , 0.        , 0.        , 0.        , 0.        ,\n",
              "         0.        , 0.64510243, 0.        ],\n",
              "        [0.5355058 , 0.        , 0.        , 0.        , 0.        ,\n",
              "         0.        , 0.        , 0.65304446, 0.        , 0.        ,\n",
              "         0.5355058 , 0.        , 0.        , 0.        , 0.        ,\n",
              "         0.        , 0.        , 0.        ],\n",
              "        [0.55902156, 0.        , 0.        , 0.68172171, 0.        ,\n",
              "         0.        , 0.        , 0.        , 0.        , 0.        ,\n",
              "         0.        , 0.        , 0.        , 0.        , 0.        ,\n",
              "         0.        , 0.47196441, 0.        ],\n",
              "        [0.        , 0.        , 0.39699901, 0.        , 0.        ,\n",
              "         0.39699901, 0.32554487, 0.        , 0.        , 0.        ,\n",
              "         0.        , 0.        , 0.39699901, 0.39699901, 0.32554487,\n",
              "         0.39699901, 0.        , 0.        ],\n",
              "        [0.        , 0.36855188, 0.        , 0.        , 0.36855188,\n",
              "         0.        , 0.30221782, 0.        , 0.        , 0.        ,\n",
              "         0.        , 0.36855188, 0.        , 0.        , 0.60443563,\n",
              "         0.        , 0.        , 0.36855188],\n",
              "        [0.        , 0.        , 0.        , 0.        , 0.        ,\n",
              "         0.        , 0.        , 0.        , 0.63509072, 0.63509072,\n",
              "         0.        , 0.        , 0.        , 0.        , 0.        ,\n",
              "         0.        , 0.4396812 , 0.        ]])"
            ]
          },
          "metadata": {},
          "execution_count": 37
        }
      ]
    },
    {
      "cell_type": "code",
      "source": [
        "#to view the doc term matrix\n",
        "Data =pd.DataFrame(mat.todense(),columns=tfidf.get_feature_names_out())\n",
        "Data=pd.concat([pd.Series(docs),Data],axis=1)\n"
      ],
      "metadata": {
        "id": "mV1o_KfenLqq"
      },
      "execution_count": null,
      "outputs": []
    },
    {
      "cell_type": "code",
      "source": [
        "Data"
      ],
      "metadata": {
        "colab": {
          "base_uri": "https://localhost:8080/",
          "height": 562
        },
        "id": "U569n26UnLmj",
        "outputId": "b7a47947-dd7c-46f8-c836-6c00a80304ca"
      },
      "execution_count": null,
      "outputs": [
        {
          "output_type": "execute_result",
          "data": {
            "text/plain": [
              "                                        0    dagger       did       die  \\\n",
              "0                            Romeo Juliet  0.000000  0.000000  0.000000   \n",
              "1                   Juliet O happy dagger  0.535506  0.000000  0.000000   \n",
              "2                       Romeo died dagger  0.559022  0.000000  0.000000   \n",
              "3    Live free or die New-Hampshire motto  0.000000  0.000000  0.396999   \n",
              "4  Did you know New-Hampshire New-England  0.000000  0.368552  0.000000   \n",
              "5                          Romeo in Japan  0.000000  0.000000  0.000000   \n",
              "\n",
              "       died   england      free  hampshire     happy        in     japan  \\\n",
              "0  0.000000  0.000000  0.000000   0.000000  0.000000  0.000000  0.000000   \n",
              "1  0.000000  0.000000  0.000000   0.000000  0.653044  0.000000  0.000000   \n",
              "2  0.681722  0.000000  0.000000   0.000000  0.000000  0.000000  0.000000   \n",
              "3  0.000000  0.000000  0.396999   0.325545  0.000000  0.000000  0.000000   \n",
              "4  0.000000  0.368552  0.000000   0.302218  0.000000  0.000000  0.000000   \n",
              "5  0.000000  0.000000  0.000000   0.000000  0.000000  0.635091  0.635091   \n",
              "\n",
              "     juliet      know      live     motto       new        or     romeo  \\\n",
              "0  0.764096  0.000000  0.000000  0.000000  0.000000  0.000000  0.645102   \n",
              "1  0.535506  0.000000  0.000000  0.000000  0.000000  0.000000  0.000000   \n",
              "2  0.000000  0.000000  0.000000  0.000000  0.000000  0.000000  0.471964   \n",
              "3  0.000000  0.000000  0.396999  0.396999  0.325545  0.396999  0.000000   \n",
              "4  0.000000  0.368552  0.000000  0.000000  0.604436  0.000000  0.000000   \n",
              "5  0.000000  0.000000  0.000000  0.000000  0.000000  0.000000  0.439681   \n",
              "\n",
              "        you  \n",
              "0  0.000000  \n",
              "1  0.000000  \n",
              "2  0.000000  \n",
              "3  0.000000  \n",
              "4  0.368552  \n",
              "5  0.000000  "
            ],
            "text/html": [
              "\n",
              "  <div id=\"df-2ab7b863-688f-4ca2-b93f-5bf731a87880\">\n",
              "    <div class=\"colab-df-container\">\n",
              "      <div>\n",
              "<style scoped>\n",
              "    .dataframe tbody tr th:only-of-type {\n",
              "        vertical-align: middle;\n",
              "    }\n",
              "\n",
              "    .dataframe tbody tr th {\n",
              "        vertical-align: top;\n",
              "    }\n",
              "\n",
              "    .dataframe thead th {\n",
              "        text-align: right;\n",
              "    }\n",
              "</style>\n",
              "<table border=\"1\" class=\"dataframe\">\n",
              "  <thead>\n",
              "    <tr style=\"text-align: right;\">\n",
              "      <th></th>\n",
              "      <th>0</th>\n",
              "      <th>dagger</th>\n",
              "      <th>did</th>\n",
              "      <th>die</th>\n",
              "      <th>died</th>\n",
              "      <th>england</th>\n",
              "      <th>free</th>\n",
              "      <th>hampshire</th>\n",
              "      <th>happy</th>\n",
              "      <th>in</th>\n",
              "      <th>japan</th>\n",
              "      <th>juliet</th>\n",
              "      <th>know</th>\n",
              "      <th>live</th>\n",
              "      <th>motto</th>\n",
              "      <th>new</th>\n",
              "      <th>or</th>\n",
              "      <th>romeo</th>\n",
              "      <th>you</th>\n",
              "    </tr>\n",
              "  </thead>\n",
              "  <tbody>\n",
              "    <tr>\n",
              "      <th>0</th>\n",
              "      <td>Romeo Juliet</td>\n",
              "      <td>0.000000</td>\n",
              "      <td>0.000000</td>\n",
              "      <td>0.000000</td>\n",
              "      <td>0.000000</td>\n",
              "      <td>0.000000</td>\n",
              "      <td>0.000000</td>\n",
              "      <td>0.000000</td>\n",
              "      <td>0.000000</td>\n",
              "      <td>0.000000</td>\n",
              "      <td>0.000000</td>\n",
              "      <td>0.764096</td>\n",
              "      <td>0.000000</td>\n",
              "      <td>0.000000</td>\n",
              "      <td>0.000000</td>\n",
              "      <td>0.000000</td>\n",
              "      <td>0.000000</td>\n",
              "      <td>0.645102</td>\n",
              "      <td>0.000000</td>\n",
              "    </tr>\n",
              "    <tr>\n",
              "      <th>1</th>\n",
              "      <td>Juliet O happy dagger</td>\n",
              "      <td>0.535506</td>\n",
              "      <td>0.000000</td>\n",
              "      <td>0.000000</td>\n",
              "      <td>0.000000</td>\n",
              "      <td>0.000000</td>\n",
              "      <td>0.000000</td>\n",
              "      <td>0.000000</td>\n",
              "      <td>0.653044</td>\n",
              "      <td>0.000000</td>\n",
              "      <td>0.000000</td>\n",
              "      <td>0.535506</td>\n",
              "      <td>0.000000</td>\n",
              "      <td>0.000000</td>\n",
              "      <td>0.000000</td>\n",
              "      <td>0.000000</td>\n",
              "      <td>0.000000</td>\n",
              "      <td>0.000000</td>\n",
              "      <td>0.000000</td>\n",
              "    </tr>\n",
              "    <tr>\n",
              "      <th>2</th>\n",
              "      <td>Romeo died dagger</td>\n",
              "      <td>0.559022</td>\n",
              "      <td>0.000000</td>\n",
              "      <td>0.000000</td>\n",
              "      <td>0.681722</td>\n",
              "      <td>0.000000</td>\n",
              "      <td>0.000000</td>\n",
              "      <td>0.000000</td>\n",
              "      <td>0.000000</td>\n",
              "      <td>0.000000</td>\n",
              "      <td>0.000000</td>\n",
              "      <td>0.000000</td>\n",
              "      <td>0.000000</td>\n",
              "      <td>0.000000</td>\n",
              "      <td>0.000000</td>\n",
              "      <td>0.000000</td>\n",
              "      <td>0.000000</td>\n",
              "      <td>0.471964</td>\n",
              "      <td>0.000000</td>\n",
              "    </tr>\n",
              "    <tr>\n",
              "      <th>3</th>\n",
              "      <td>Live free or die New-Hampshire motto</td>\n",
              "      <td>0.000000</td>\n",
              "      <td>0.000000</td>\n",
              "      <td>0.396999</td>\n",
              "      <td>0.000000</td>\n",
              "      <td>0.000000</td>\n",
              "      <td>0.396999</td>\n",
              "      <td>0.325545</td>\n",
              "      <td>0.000000</td>\n",
              "      <td>0.000000</td>\n",
              "      <td>0.000000</td>\n",
              "      <td>0.000000</td>\n",
              "      <td>0.000000</td>\n",
              "      <td>0.396999</td>\n",
              "      <td>0.396999</td>\n",
              "      <td>0.325545</td>\n",
              "      <td>0.396999</td>\n",
              "      <td>0.000000</td>\n",
              "      <td>0.000000</td>\n",
              "    </tr>\n",
              "    <tr>\n",
              "      <th>4</th>\n",
              "      <td>Did you know New-Hampshire New-England</td>\n",
              "      <td>0.000000</td>\n",
              "      <td>0.368552</td>\n",
              "      <td>0.000000</td>\n",
              "      <td>0.000000</td>\n",
              "      <td>0.368552</td>\n",
              "      <td>0.000000</td>\n",
              "      <td>0.302218</td>\n",
              "      <td>0.000000</td>\n",
              "      <td>0.000000</td>\n",
              "      <td>0.000000</td>\n",
              "      <td>0.000000</td>\n",
              "      <td>0.368552</td>\n",
              "      <td>0.000000</td>\n",
              "      <td>0.000000</td>\n",
              "      <td>0.604436</td>\n",
              "      <td>0.000000</td>\n",
              "      <td>0.000000</td>\n",
              "      <td>0.368552</td>\n",
              "    </tr>\n",
              "    <tr>\n",
              "      <th>5</th>\n",
              "      <td>Romeo in Japan</td>\n",
              "      <td>0.000000</td>\n",
              "      <td>0.000000</td>\n",
              "      <td>0.000000</td>\n",
              "      <td>0.000000</td>\n",
              "      <td>0.000000</td>\n",
              "      <td>0.000000</td>\n",
              "      <td>0.000000</td>\n",
              "      <td>0.000000</td>\n",
              "      <td>0.635091</td>\n",
              "      <td>0.635091</td>\n",
              "      <td>0.000000</td>\n",
              "      <td>0.000000</td>\n",
              "      <td>0.000000</td>\n",
              "      <td>0.000000</td>\n",
              "      <td>0.000000</td>\n",
              "      <td>0.000000</td>\n",
              "      <td>0.439681</td>\n",
              "      <td>0.000000</td>\n",
              "    </tr>\n",
              "  </tbody>\n",
              "</table>\n",
              "</div>\n",
              "      <button class=\"colab-df-convert\" onclick=\"convertToInteractive('df-2ab7b863-688f-4ca2-b93f-5bf731a87880')\"\n",
              "              title=\"Convert this dataframe to an interactive table.\"\n",
              "              style=\"display:none;\">\n",
              "        \n",
              "  <svg xmlns=\"http://www.w3.org/2000/svg\" height=\"24px\"viewBox=\"0 0 24 24\"\n",
              "       width=\"24px\">\n",
              "    <path d=\"M0 0h24v24H0V0z\" fill=\"none\"/>\n",
              "    <path d=\"M18.56 5.44l.94 2.06.94-2.06 2.06-.94-2.06-.94-.94-2.06-.94 2.06-2.06.94zm-11 1L8.5 8.5l.94-2.06 2.06-.94-2.06-.94L8.5 2.5l-.94 2.06-2.06.94zm10 10l.94 2.06.94-2.06 2.06-.94-2.06-.94-.94-2.06-.94 2.06-2.06.94z\"/><path d=\"M17.41 7.96l-1.37-1.37c-.4-.4-.92-.59-1.43-.59-.52 0-1.04.2-1.43.59L10.3 9.45l-7.72 7.72c-.78.78-.78 2.05 0 2.83L4 21.41c.39.39.9.59 1.41.59.51 0 1.02-.2 1.41-.59l7.78-7.78 2.81-2.81c.8-.78.8-2.07 0-2.86zM5.41 20L4 18.59l7.72-7.72 1.47 1.35L5.41 20z\"/>\n",
              "  </svg>\n",
              "      </button>\n",
              "      \n",
              "  <style>\n",
              "    .colab-df-container {\n",
              "      display:flex;\n",
              "      flex-wrap:wrap;\n",
              "      gap: 12px;\n",
              "    }\n",
              "\n",
              "    .colab-df-convert {\n",
              "      background-color: #E8F0FE;\n",
              "      border: none;\n",
              "      border-radius: 50%;\n",
              "      cursor: pointer;\n",
              "      display: none;\n",
              "      fill: #1967D2;\n",
              "      height: 32px;\n",
              "      padding: 0 0 0 0;\n",
              "      width: 32px;\n",
              "    }\n",
              "\n",
              "    .colab-df-convert:hover {\n",
              "      background-color: #E2EBFA;\n",
              "      box-shadow: 0px 1px 2px rgba(60, 64, 67, 0.3), 0px 1px 3px 1px rgba(60, 64, 67, 0.15);\n",
              "      fill: #174EA6;\n",
              "    }\n",
              "\n",
              "    [theme=dark] .colab-df-convert {\n",
              "      background-color: #3B4455;\n",
              "      fill: #D2E3FC;\n",
              "    }\n",
              "\n",
              "    [theme=dark] .colab-df-convert:hover {\n",
              "      background-color: #434B5C;\n",
              "      box-shadow: 0px 1px 3px 1px rgba(0, 0, 0, 0.15);\n",
              "      filter: drop-shadow(0px 1px 2px rgba(0, 0, 0, 0.3));\n",
              "      fill: #FFFFFF;\n",
              "    }\n",
              "  </style>\n",
              "\n",
              "      <script>\n",
              "        const buttonEl =\n",
              "          document.querySelector('#df-2ab7b863-688f-4ca2-b93f-5bf731a87880 button.colab-df-convert');\n",
              "        buttonEl.style.display =\n",
              "          google.colab.kernel.accessAllowed ? 'block' : 'none';\n",
              "\n",
              "        async function convertToInteractive(key) {\n",
              "          const element = document.querySelector('#df-2ab7b863-688f-4ca2-b93f-5bf731a87880');\n",
              "          const dataTable =\n",
              "            await google.colab.kernel.invokeFunction('convertToInteractive',\n",
              "                                                     [key], {});\n",
              "          if (!dataTable) return;\n",
              "\n",
              "          const docLinkHtml = 'Like what you see? Visit the ' +\n",
              "            '<a target=\"_blank\" href=https://colab.research.google.com/notebooks/data_table.ipynb>data table notebook</a>'\n",
              "            + ' to learn more about interactive tables.';\n",
              "          element.innerHTML = '';\n",
              "          dataTable['output_type'] = 'display_data';\n",
              "          await google.colab.output.renderOutput(dataTable, element);\n",
              "          const docLink = document.createElement('div');\n",
              "          docLink.innerHTML = docLinkHtml;\n",
              "          element.appendChild(docLink);\n",
              "        }\n",
              "      </script>\n",
              "    </div>\n",
              "  </div>\n",
              "  "
            ]
          },
          "metadata": {},
          "execution_count": 39
        }
      ]
    },
    {
      "cell_type": "code",
      "source": [
        "##lets consider a test query for which revelant articles from the cropus should be\n",
        "test = 'die dagger'\n",
        "t1=tfidf.transform([test])"
      ],
      "metadata": {
        "id": "brObz7K4tRm0"
      },
      "execution_count": null,
      "outputs": []
    },
    {
      "cell_type": "code",
      "source": [
        "t1.todense()"
      ],
      "metadata": {
        "colab": {
          "base_uri": "https://localhost:8080/"
        },
        "id": "w7YF7iCxtRVD",
        "outputId": "819eef29-8b10-49c6-aef4-13d9636ed4e1"
      },
      "execution_count": null,
      "outputs": [
        {
          "output_type": "execute_result",
          "data": {
            "text/plain": [
              "matrix([[0.6340862 , 0.        , 0.77326237, 0.        , 0.        ,\n",
              "         0.        , 0.        , 0.        , 0.        , 0.        ,\n",
              "         0.        , 0.        , 0.        , 0.        , 0.        ,\n",
              "         0.        , 0.        , 0.        ]])"
            ]
          },
          "metadata": {},
          "execution_count": 41
        }
      ]
    },
    {
      "cell_type": "code",
      "source": [
        "sim1=cosine_similarity(np.asarray(t1.todense()),np.asarray(mat.todense()))"
      ],
      "metadata": {
        "id": "bj5lgHJ1tRPX"
      },
      "execution_count": null,
      "outputs": []
    },
    {
      "cell_type": "code",
      "source": [
        "sim1"
      ],
      "metadata": {
        "colab": {
          "base_uri": "https://localhost:8080/"
        },
        "id": "3LqYvZfZtRIu",
        "outputId": "083efb38-496b-4e4b-edeb-9abc8d24a026"
      },
      "execution_count": null,
      "outputs": [
        {
          "output_type": "execute_result",
          "data": {
            "text/plain": [
              "array([[0.        , 0.33955684, 0.35446786, 0.3069844 , 0.        ,\n",
              "        0.        ]])"
            ]
          },
          "metadata": {},
          "execution_count": 43
        }
      ]
    },
    {
      "cell_type": "code",
      "source": [
        "##to understand the hidden relations we do matrix factorization(SVD) - we get 3 en\n",
        "##1.docs - topic matrix,topics-topics strenght and word-topics\n",
        "##since singular values are egien value which caputures information - lower egien values\n",
        "##in this case we considered 2 eige values\n",
        "tsvt=TruncatedSVD(n_components=2)\n"
      ],
      "metadata": {
        "id": "uOD57wvOtRCz"
      },
      "execution_count": null,
      "outputs": []
    },
    {
      "cell_type": "code",
      "source": [
        "## Here we perform the matrix factorization on document term matrix, to explore\n",
        "lsa=tsvt.fit_transform(mat)  ## las will have(as mentioned earlier) topics strength\n"
      ],
      "metadata": {
        "id": "8nCDfx9StQ9o"
      },
      "execution_count": null,
      "outputs": []
    },
    {
      "cell_type": "code",
      "source": [
        "## BY default the output here reveals documents to topics i.e what topics are talke\n",
        "lsa\n"
      ],
      "metadata": {
        "colab": {
          "base_uri": "https://localhost:8080/"
        },
        "id": "HU3l10yftQ5N",
        "outputId": "85fe7a31-3bf0-4837-b879-b46e26af2eba"
      },
      "execution_count": null,
      "outputs": [
        {
          "output_type": "execute_result",
          "data": {
            "text/plain": [
              "array([[ 7.91975656e-01, -9.39734015e-18],\n",
              "       [ 6.77369665e-01, -2.98383347e-16],\n",
              "       [ 6.90765217e-01,  4.88562019e-16],\n",
              "       [-1.95945655e-16,  8.04722430e-01],\n",
              "       [ 5.51276105e-17,  8.04722430e-01],\n",
              "       [ 4.69548168e-01, -6.49377392e-17]])"
            ]
          },
          "metadata": {},
          "execution_count": 46
        }
      ]
    },
    {
      "cell_type": "code",
      "source": [
        "from IPython.core.display import display\n",
        "## A better representation of the above one\n",
        "Data=pd.DataFrame(lsa,columns=['Topic1','Topic2'])\n",
        "Data['Original']=docs\n",
        "display(Data[['Original','Topic1','Topic2']])\n"
      ],
      "metadata": {
        "colab": {
          "base_uri": "https://localhost:8080/",
          "height": 237
        },
        "id": "6SvRAbGDtQ11",
        "outputId": "0797c36c-f35a-42a8-ec34-f035a5b6d9f2"
      },
      "execution_count": null,
      "outputs": [
        {
          "output_type": "display_data",
          "data": {
            "text/plain": [
              "                                 Original        Topic1        Topic2\n",
              "0                            Romeo Juliet  7.919757e-01 -9.397340e-18\n",
              "1                   Juliet O happy dagger  6.773697e-01 -2.983833e-16\n",
              "2                       Romeo died dagger  6.907652e-01  4.885620e-16\n",
              "3    Live free or die New-Hampshire motto -1.959457e-16  8.047224e-01\n",
              "4  Did you know New-Hampshire New-England  5.512761e-17  8.047224e-01\n",
              "5                          Romeo in Japan  4.695482e-01 -6.493774e-17"
            ],
            "text/html": [
              "\n",
              "  <div id=\"df-4b4ac560-3528-44a9-b6ff-68cb51c26973\">\n",
              "    <div class=\"colab-df-container\">\n",
              "      <div>\n",
              "<style scoped>\n",
              "    .dataframe tbody tr th:only-of-type {\n",
              "        vertical-align: middle;\n",
              "    }\n",
              "\n",
              "    .dataframe tbody tr th {\n",
              "        vertical-align: top;\n",
              "    }\n",
              "\n",
              "    .dataframe thead th {\n",
              "        text-align: right;\n",
              "    }\n",
              "</style>\n",
              "<table border=\"1\" class=\"dataframe\">\n",
              "  <thead>\n",
              "    <tr style=\"text-align: right;\">\n",
              "      <th></th>\n",
              "      <th>Original</th>\n",
              "      <th>Topic1</th>\n",
              "      <th>Topic2</th>\n",
              "    </tr>\n",
              "  </thead>\n",
              "  <tbody>\n",
              "    <tr>\n",
              "      <th>0</th>\n",
              "      <td>Romeo Juliet</td>\n",
              "      <td>7.919757e-01</td>\n",
              "      <td>-9.397340e-18</td>\n",
              "    </tr>\n",
              "    <tr>\n",
              "      <th>1</th>\n",
              "      <td>Juliet O happy dagger</td>\n",
              "      <td>6.773697e-01</td>\n",
              "      <td>-2.983833e-16</td>\n",
              "    </tr>\n",
              "    <tr>\n",
              "      <th>2</th>\n",
              "      <td>Romeo died dagger</td>\n",
              "      <td>6.907652e-01</td>\n",
              "      <td>4.885620e-16</td>\n",
              "    </tr>\n",
              "    <tr>\n",
              "      <th>3</th>\n",
              "      <td>Live free or die New-Hampshire motto</td>\n",
              "      <td>-1.959457e-16</td>\n",
              "      <td>8.047224e-01</td>\n",
              "    </tr>\n",
              "    <tr>\n",
              "      <th>4</th>\n",
              "      <td>Did you know New-Hampshire New-England</td>\n",
              "      <td>5.512761e-17</td>\n",
              "      <td>8.047224e-01</td>\n",
              "    </tr>\n",
              "    <tr>\n",
              "      <th>5</th>\n",
              "      <td>Romeo in Japan</td>\n",
              "      <td>4.695482e-01</td>\n",
              "      <td>-6.493774e-17</td>\n",
              "    </tr>\n",
              "  </tbody>\n",
              "</table>\n",
              "</div>\n",
              "      <button class=\"colab-df-convert\" onclick=\"convertToInteractive('df-4b4ac560-3528-44a9-b6ff-68cb51c26973')\"\n",
              "              title=\"Convert this dataframe to an interactive table.\"\n",
              "              style=\"display:none;\">\n",
              "        \n",
              "  <svg xmlns=\"http://www.w3.org/2000/svg\" height=\"24px\"viewBox=\"0 0 24 24\"\n",
              "       width=\"24px\">\n",
              "    <path d=\"M0 0h24v24H0V0z\" fill=\"none\"/>\n",
              "    <path d=\"M18.56 5.44l.94 2.06.94-2.06 2.06-.94-2.06-.94-.94-2.06-.94 2.06-2.06.94zm-11 1L8.5 8.5l.94-2.06 2.06-.94-2.06-.94L8.5 2.5l-.94 2.06-2.06.94zm10 10l.94 2.06.94-2.06 2.06-.94-2.06-.94-.94-2.06-.94 2.06-2.06.94z\"/><path d=\"M17.41 7.96l-1.37-1.37c-.4-.4-.92-.59-1.43-.59-.52 0-1.04.2-1.43.59L10.3 9.45l-7.72 7.72c-.78.78-.78 2.05 0 2.83L4 21.41c.39.39.9.59 1.41.59.51 0 1.02-.2 1.41-.59l7.78-7.78 2.81-2.81c.8-.78.8-2.07 0-2.86zM5.41 20L4 18.59l7.72-7.72 1.47 1.35L5.41 20z\"/>\n",
              "  </svg>\n",
              "      </button>\n",
              "      \n",
              "  <style>\n",
              "    .colab-df-container {\n",
              "      display:flex;\n",
              "      flex-wrap:wrap;\n",
              "      gap: 12px;\n",
              "    }\n",
              "\n",
              "    .colab-df-convert {\n",
              "      background-color: #E8F0FE;\n",
              "      border: none;\n",
              "      border-radius: 50%;\n",
              "      cursor: pointer;\n",
              "      display: none;\n",
              "      fill: #1967D2;\n",
              "      height: 32px;\n",
              "      padding: 0 0 0 0;\n",
              "      width: 32px;\n",
              "    }\n",
              "\n",
              "    .colab-df-convert:hover {\n",
              "      background-color: #E2EBFA;\n",
              "      box-shadow: 0px 1px 2px rgba(60, 64, 67, 0.3), 0px 1px 3px 1px rgba(60, 64, 67, 0.15);\n",
              "      fill: #174EA6;\n",
              "    }\n",
              "\n",
              "    [theme=dark] .colab-df-convert {\n",
              "      background-color: #3B4455;\n",
              "      fill: #D2E3FC;\n",
              "    }\n",
              "\n",
              "    [theme=dark] .colab-df-convert:hover {\n",
              "      background-color: #434B5C;\n",
              "      box-shadow: 0px 1px 3px 1px rgba(0, 0, 0, 0.15);\n",
              "      filter: drop-shadow(0px 1px 2px rgba(0, 0, 0, 0.3));\n",
              "      fill: #FFFFFF;\n",
              "    }\n",
              "  </style>\n",
              "\n",
              "      <script>\n",
              "        const buttonEl =\n",
              "          document.querySelector('#df-4b4ac560-3528-44a9-b6ff-68cb51c26973 button.colab-df-convert');\n",
              "        buttonEl.style.display =\n",
              "          google.colab.kernel.accessAllowed ? 'block' : 'none';\n",
              "\n",
              "        async function convertToInteractive(key) {\n",
              "          const element = document.querySelector('#df-4b4ac560-3528-44a9-b6ff-68cb51c26973');\n",
              "          const dataTable =\n",
              "            await google.colab.kernel.invokeFunction('convertToInteractive',\n",
              "                                                     [key], {});\n",
              "          if (!dataTable) return;\n",
              "\n",
              "          const docLinkHtml = 'Like what you see? Visit the ' +\n",
              "            '<a target=\"_blank\" href=https://colab.research.google.com/notebooks/data_table.ipynb>data table notebook</a>'\n",
              "            + ' to learn more about interactive tables.';\n",
              "          element.innerHTML = '';\n",
              "          dataTable['output_type'] = 'display_data';\n",
              "          await google.colab.output.renderOutput(dataTable, element);\n",
              "          const docLink = document.createElement('div');\n",
              "          docLink.innerHTML = docLinkHtml;\n",
              "          element.appendChild(docLink);\n",
              "        }\n",
              "      </script>\n",
              "    </div>\n",
              "  </div>\n",
              "  "
            ]
          },
          "metadata": {}
        }
      ]
    },
    {
      "cell_type": "code",
      "source": [
        "print(tsvt.components_)\n",
        "print(tsvt.components_.shape)\n"
      ],
      "metadata": {
        "colab": {
          "base_uri": "https://localhost:8080/"
        },
        "id": "u5DSHEBhtQy7",
        "outputId": "44c8c952-6172-4bea-fe9a-bb8679cc6171"
      },
      "execution_count": null,
      "outputs": [
        {
          "output_type": "stream",
          "name": "stdout",
          "text": [
            "[[ 4.19853910e-01  4.17213351e-17 -9.19884368e-17  2.64009102e-01\n",
            "   4.63958603e-17 -9.24553294e-17 -4.18661065e-17  2.47998930e-01\n",
            "   1.67184969e-01  1.67184969e-01  5.42629287e-01  4.63632373e-17\n",
            "  -9.23942622e-17 -9.23942622e-17  2.91488811e-18 -9.23942622e-17\n",
            "   5.84953201e-01  4.46488426e-17]\n",
            " [ 1.02839840e-16  2.28993171e-01  2.46668290e-01  4.37327401e-16\n",
            "   2.28993171e-01  2.46668290e-01  3.90049203e-01 -3.36154825e-16\n",
            "  -1.48625516e-16 -1.48625516e-16 -2.50101176e-16  2.28993171e-01\n",
            "   2.46668290e-01  2.46668290e-01  5.77826879e-01  2.46668290e-01\n",
            "   2.81666887e-16  2.28993171e-01]]\n",
            "(2, 18)\n"
          ]
        }
      ]
    },
    {
      "cell_type": "code",
      "source": [
        "dicti=tfid.get_feature_names_out()\n",
        "dicti\n"
      ],
      "metadata": {
        "colab": {
          "base_uri": "https://localhost:8080/"
        },
        "id": "JJr1Yg1jtQwJ",
        "outputId": "f1e0ef29-8dce-461b-d6d9-70522f0f065c"
      },
      "execution_count": null,
      "outputs": [
        {
          "output_type": "execute_result",
          "data": {
            "text/plain": [
              "array(['dagger', 'did', 'die', 'died', 'england', 'free', 'hampshire',\n",
              "       'happy', 'in', 'japan', 'juliet', 'know', 'live', 'motto', 'new',\n",
              "       'or', 'romeo', 'you'], dtype=object)"
            ]
          },
          "metadata": {},
          "execution_count": 49
        }
      ]
    },
    {
      "cell_type": "code",
      "source": [
        "encoding_matrix=pd.DataFrame(tsvt.components_,index=['Topic1','Topic2'],columns=dicti).T\n",
        "encoding_matrix\n"
      ],
      "metadata": {
        "colab": {
          "base_uri": "https://localhost:8080/",
          "height": 613
        },
        "id": "Nc6url7TtQtQ",
        "outputId": "e6bcf414-f13a-4f86-cb2d-76cdd64a6c27"
      },
      "execution_count": null,
      "outputs": [
        {
          "output_type": "execute_result",
          "data": {
            "text/plain": [
              "                 Topic1        Topic2\n",
              "dagger     4.198539e-01  1.028398e-16\n",
              "did        4.172134e-17  2.289932e-01\n",
              "die       -9.198844e-17  2.466683e-01\n",
              "died       2.640091e-01  4.373274e-16\n",
              "england    4.639586e-17  2.289932e-01\n",
              "free      -9.245533e-17  2.466683e-01\n",
              "hampshire -4.186611e-17  3.900492e-01\n",
              "happy      2.479989e-01 -3.361548e-16\n",
              "in         1.671850e-01 -1.486255e-16\n",
              "japan      1.671850e-01 -1.486255e-16\n",
              "juliet     5.426293e-01 -2.501012e-16\n",
              "know       4.636324e-17  2.289932e-01\n",
              "live      -9.239426e-17  2.466683e-01\n",
              "motto     -9.239426e-17  2.466683e-01\n",
              "new        2.914888e-18  5.778269e-01\n",
              "or        -9.239426e-17  2.466683e-01\n",
              "romeo      5.849532e-01  2.816669e-16\n",
              "you        4.464884e-17  2.289932e-01"
            ],
            "text/html": [
              "\n",
              "  <div id=\"df-0cdfc25d-0dcf-4092-b3e6-6cbbc4f2432e\">\n",
              "    <div class=\"colab-df-container\">\n",
              "      <div>\n",
              "<style scoped>\n",
              "    .dataframe tbody tr th:only-of-type {\n",
              "        vertical-align: middle;\n",
              "    }\n",
              "\n",
              "    .dataframe tbody tr th {\n",
              "        vertical-align: top;\n",
              "    }\n",
              "\n",
              "    .dataframe thead th {\n",
              "        text-align: right;\n",
              "    }\n",
              "</style>\n",
              "<table border=\"1\" class=\"dataframe\">\n",
              "  <thead>\n",
              "    <tr style=\"text-align: right;\">\n",
              "      <th></th>\n",
              "      <th>Topic1</th>\n",
              "      <th>Topic2</th>\n",
              "    </tr>\n",
              "  </thead>\n",
              "  <tbody>\n",
              "    <tr>\n",
              "      <th>dagger</th>\n",
              "      <td>4.198539e-01</td>\n",
              "      <td>1.028398e-16</td>\n",
              "    </tr>\n",
              "    <tr>\n",
              "      <th>did</th>\n",
              "      <td>4.172134e-17</td>\n",
              "      <td>2.289932e-01</td>\n",
              "    </tr>\n",
              "    <tr>\n",
              "      <th>die</th>\n",
              "      <td>-9.198844e-17</td>\n",
              "      <td>2.466683e-01</td>\n",
              "    </tr>\n",
              "    <tr>\n",
              "      <th>died</th>\n",
              "      <td>2.640091e-01</td>\n",
              "      <td>4.373274e-16</td>\n",
              "    </tr>\n",
              "    <tr>\n",
              "      <th>england</th>\n",
              "      <td>4.639586e-17</td>\n",
              "      <td>2.289932e-01</td>\n",
              "    </tr>\n",
              "    <tr>\n",
              "      <th>free</th>\n",
              "      <td>-9.245533e-17</td>\n",
              "      <td>2.466683e-01</td>\n",
              "    </tr>\n",
              "    <tr>\n",
              "      <th>hampshire</th>\n",
              "      <td>-4.186611e-17</td>\n",
              "      <td>3.900492e-01</td>\n",
              "    </tr>\n",
              "    <tr>\n",
              "      <th>happy</th>\n",
              "      <td>2.479989e-01</td>\n",
              "      <td>-3.361548e-16</td>\n",
              "    </tr>\n",
              "    <tr>\n",
              "      <th>in</th>\n",
              "      <td>1.671850e-01</td>\n",
              "      <td>-1.486255e-16</td>\n",
              "    </tr>\n",
              "    <tr>\n",
              "      <th>japan</th>\n",
              "      <td>1.671850e-01</td>\n",
              "      <td>-1.486255e-16</td>\n",
              "    </tr>\n",
              "    <tr>\n",
              "      <th>juliet</th>\n",
              "      <td>5.426293e-01</td>\n",
              "      <td>-2.501012e-16</td>\n",
              "    </tr>\n",
              "    <tr>\n",
              "      <th>know</th>\n",
              "      <td>4.636324e-17</td>\n",
              "      <td>2.289932e-01</td>\n",
              "    </tr>\n",
              "    <tr>\n",
              "      <th>live</th>\n",
              "      <td>-9.239426e-17</td>\n",
              "      <td>2.466683e-01</td>\n",
              "    </tr>\n",
              "    <tr>\n",
              "      <th>motto</th>\n",
              "      <td>-9.239426e-17</td>\n",
              "      <td>2.466683e-01</td>\n",
              "    </tr>\n",
              "    <tr>\n",
              "      <th>new</th>\n",
              "      <td>2.914888e-18</td>\n",
              "      <td>5.778269e-01</td>\n",
              "    </tr>\n",
              "    <tr>\n",
              "      <th>or</th>\n",
              "      <td>-9.239426e-17</td>\n",
              "      <td>2.466683e-01</td>\n",
              "    </tr>\n",
              "    <tr>\n",
              "      <th>romeo</th>\n",
              "      <td>5.849532e-01</td>\n",
              "      <td>2.816669e-16</td>\n",
              "    </tr>\n",
              "    <tr>\n",
              "      <th>you</th>\n",
              "      <td>4.464884e-17</td>\n",
              "      <td>2.289932e-01</td>\n",
              "    </tr>\n",
              "  </tbody>\n",
              "</table>\n",
              "</div>\n",
              "      <button class=\"colab-df-convert\" onclick=\"convertToInteractive('df-0cdfc25d-0dcf-4092-b3e6-6cbbc4f2432e')\"\n",
              "              title=\"Convert this dataframe to an interactive table.\"\n",
              "              style=\"display:none;\">\n",
              "        \n",
              "  <svg xmlns=\"http://www.w3.org/2000/svg\" height=\"24px\"viewBox=\"0 0 24 24\"\n",
              "       width=\"24px\">\n",
              "    <path d=\"M0 0h24v24H0V0z\" fill=\"none\"/>\n",
              "    <path d=\"M18.56 5.44l.94 2.06.94-2.06 2.06-.94-2.06-.94-.94-2.06-.94 2.06-2.06.94zm-11 1L8.5 8.5l.94-2.06 2.06-.94-2.06-.94L8.5 2.5l-.94 2.06-2.06.94zm10 10l.94 2.06.94-2.06 2.06-.94-2.06-.94-.94-2.06-.94 2.06-2.06.94z\"/><path d=\"M17.41 7.96l-1.37-1.37c-.4-.4-.92-.59-1.43-.59-.52 0-1.04.2-1.43.59L10.3 9.45l-7.72 7.72c-.78.78-.78 2.05 0 2.83L4 21.41c.39.39.9.59 1.41.59.51 0 1.02-.2 1.41-.59l7.78-7.78 2.81-2.81c.8-.78.8-2.07 0-2.86zM5.41 20L4 18.59l7.72-7.72 1.47 1.35L5.41 20z\"/>\n",
              "  </svg>\n",
              "      </button>\n",
              "      \n",
              "  <style>\n",
              "    .colab-df-container {\n",
              "      display:flex;\n",
              "      flex-wrap:wrap;\n",
              "      gap: 12px;\n",
              "    }\n",
              "\n",
              "    .colab-df-convert {\n",
              "      background-color: #E8F0FE;\n",
              "      border: none;\n",
              "      border-radius: 50%;\n",
              "      cursor: pointer;\n",
              "      display: none;\n",
              "      fill: #1967D2;\n",
              "      height: 32px;\n",
              "      padding: 0 0 0 0;\n",
              "      width: 32px;\n",
              "    }\n",
              "\n",
              "    .colab-df-convert:hover {\n",
              "      background-color: #E2EBFA;\n",
              "      box-shadow: 0px 1px 2px rgba(60, 64, 67, 0.3), 0px 1px 3px 1px rgba(60, 64, 67, 0.15);\n",
              "      fill: #174EA6;\n",
              "    }\n",
              "\n",
              "    [theme=dark] .colab-df-convert {\n",
              "      background-color: #3B4455;\n",
              "      fill: #D2E3FC;\n",
              "    }\n",
              "\n",
              "    [theme=dark] .colab-df-convert:hover {\n",
              "      background-color: #434B5C;\n",
              "      box-shadow: 0px 1px 3px 1px rgba(0, 0, 0, 0.15);\n",
              "      filter: drop-shadow(0px 1px 2px rgba(0, 0, 0, 0.3));\n",
              "      fill: #FFFFFF;\n",
              "    }\n",
              "  </style>\n",
              "\n",
              "      <script>\n",
              "        const buttonEl =\n",
              "          document.querySelector('#df-0cdfc25d-0dcf-4092-b3e6-6cbbc4f2432e button.colab-df-convert');\n",
              "        buttonEl.style.display =\n",
              "          google.colab.kernel.accessAllowed ? 'block' : 'none';\n",
              "\n",
              "        async function convertToInteractive(key) {\n",
              "          const element = document.querySelector('#df-0cdfc25d-0dcf-4092-b3e6-6cbbc4f2432e');\n",
              "          const dataTable =\n",
              "            await google.colab.kernel.invokeFunction('convertToInteractive',\n",
              "                                                     [key], {});\n",
              "          if (!dataTable) return;\n",
              "\n",
              "          const docLinkHtml = 'Like what you see? Visit the ' +\n",
              "            '<a target=\"_blank\" href=https://colab.research.google.com/notebooks/data_table.ipynb>data table notebook</a>'\n",
              "            + ' to learn more about interactive tables.';\n",
              "          element.innerHTML = '';\n",
              "          dataTable['output_type'] = 'display_data';\n",
              "          await google.colab.output.renderOutput(dataTable, element);\n",
              "          const docLink = document.createElement('div');\n",
              "          docLink.innerHTML = docLinkHtml;\n",
              "          element.appendChild(docLink);\n",
              "        }\n",
              "      </script>\n",
              "    </div>\n",
              "  </div>\n",
              "  "
            ]
          },
          "metadata": {},
          "execution_count": 50
        }
      ]
    },
    {
      "cell_type": "code",
      "source": [
        "## We have a search  query 'die dagger',we have converted into a document term\n",
        "t1.todense()\n"
      ],
      "metadata": {
        "colab": {
          "base_uri": "https://localhost:8080/"
        },
        "id": "p4A04ONw0Xa9",
        "outputId": "7b1505d8-5563-4385-9b5a-55a83a4f23b3"
      },
      "execution_count": null,
      "outputs": [
        {
          "output_type": "execute_result",
          "data": {
            "text/plain": [
              "matrix([[0.6340862 , 0.        , 0.77326237, 0.        , 0.        ,\n",
              "         0.        , 0.        , 0.        , 0.        , 0.        ,\n",
              "         0.        , 0.        , 0.        , 0.        , 0.        ,\n",
              "         0.        , 0.        , 0.        ]])"
            ]
          },
          "metadata": {},
          "execution_count": 51
        }
      ]
    },
    {
      "cell_type": "code",
      "source": [
        "query_vec=tsvt.transform(t1)\n",
        "query_vec\n"
      ],
      "metadata": {
        "colab": {
          "base_uri": "https://localhost:8080/"
        },
        "id": "u1H-VtHQ0XXf",
        "outputId": "750074e4-9f14-4f47-c6ba-9ca2929c8b9f"
      },
      "execution_count": null,
      "outputs": [
        {
          "output_type": "execute_result",
          "data": {
            "text/plain": [
              "array([[0.26622357, 0.19073931]])"
            ]
          },
          "metadata": {},
          "execution_count": 52
        }
      ]
    },
    {
      "cell_type": "code",
      "source": [
        "t1.todense().shape\n"
      ],
      "metadata": {
        "colab": {
          "base_uri": "https://localhost:8080/"
        },
        "id": "gqlpmxLJ0XRs",
        "outputId": "d1c601cd-13c3-48fd-ccaa-854d428a6a6d"
      },
      "execution_count": null,
      "outputs": [
        {
          "output_type": "execute_result",
          "data": {
            "text/plain": [
              "(1, 18)"
            ]
          },
          "metadata": {},
          "execution_count": 53
        }
      ]
    },
    {
      "cell_type": "code",
      "source": [
        "## A calculation to show the document topics matrix matrix is created\n",
        "## The document term matrix is multiplied with \n",
        "doc_trains=np.dot(mat.todense(),tsvt.components_.T)\n",
        "doc_trains\n"
      ],
      "metadata": {
        "colab": {
          "base_uri": "https://localhost:8080/"
        },
        "id": "RUhbCeGK0XOv",
        "outputId": "eb135fa0-6650-4c40-fd6b-1a0bf8bb7cd4"
      },
      "execution_count": null,
      "outputs": [
        {
          "output_type": "execute_result",
          "data": {
            "text/plain": [
              "matrix([[ 7.91975656e-01, -9.39734015e-18],\n",
              "        [ 6.77369665e-01, -2.98383347e-16],\n",
              "        [ 6.90765217e-01,  4.88562019e-16],\n",
              "        [-1.95945655e-16,  8.04722430e-01],\n",
              "        [ 5.51276105e-17,  8.04722430e-01],\n",
              "        [ 4.69548168e-01, -6.49377392e-17]])"
            ]
          },
          "metadata": {},
          "execution_count": 54
        }
      ]
    },
    {
      "cell_type": "code",
      "source": [
        "## Now get the cosine simlilarity of query to all the documnets\n",
        "sim=cosine_similarity(np.asarray(query_vec),np.asarray(doc_trains))\n"
      ],
      "metadata": {
        "id": "CE9Szhst0XLn"
      },
      "execution_count": null,
      "outputs": []
    },
    {
      "cell_type": "code",
      "source": [
        "## To make the array one dimensional\n",
        "sim=sim.reshape(-1)\n",
        "sim\n"
      ],
      "metadata": {
        "colab": {
          "base_uri": "https://localhost:8080/"
        },
        "id": "P_4-fzkp0XIg",
        "outputId": "7bcf344d-c312-4c1d-bcf4-271666675e63"
      },
      "execution_count": null,
      "outputs": [
        {
          "output_type": "execute_result",
          "data": {
            "text/plain": [
              "array([0.81289556, 0.81289556, 0.81289556, 0.58240949, 0.58240949,\n",
              "       0.81289556])"
            ]
          },
          "metadata": {},
          "execution_count": 56
        }
      ]
    },
    {
      "cell_type": "code",
      "source": [
        "pd.concat([Data['Original'],pd.Series(sim)],axis=1)"
      ],
      "metadata": {
        "colab": {
          "base_uri": "https://localhost:8080/",
          "height": 237
        },
        "id": "8g6vU0JQ3h9r",
        "outputId": "82df8327-ee48-4cf9-b04a-de4dfadbc96b"
      },
      "execution_count": null,
      "outputs": [
        {
          "output_type": "execute_result",
          "data": {
            "text/plain": [
              "                                 Original         0\n",
              "0                            Romeo Juliet  0.812896\n",
              "1                   Juliet O happy dagger  0.812896\n",
              "2                       Romeo died dagger  0.812896\n",
              "3    Live free or die New-Hampshire motto  0.582409\n",
              "4  Did you know New-Hampshire New-England  0.582409\n",
              "5                          Romeo in Japan  0.812896"
            ],
            "text/html": [
              "\n",
              "  <div id=\"df-369203f6-62e4-41b7-b6ef-1e7036a67a96\">\n",
              "    <div class=\"colab-df-container\">\n",
              "      <div>\n",
              "<style scoped>\n",
              "    .dataframe tbody tr th:only-of-type {\n",
              "        vertical-align: middle;\n",
              "    }\n",
              "\n",
              "    .dataframe tbody tr th {\n",
              "        vertical-align: top;\n",
              "    }\n",
              "\n",
              "    .dataframe thead th {\n",
              "        text-align: right;\n",
              "    }\n",
              "</style>\n",
              "<table border=\"1\" class=\"dataframe\">\n",
              "  <thead>\n",
              "    <tr style=\"text-align: right;\">\n",
              "      <th></th>\n",
              "      <th>Original</th>\n",
              "      <th>0</th>\n",
              "    </tr>\n",
              "  </thead>\n",
              "  <tbody>\n",
              "    <tr>\n",
              "      <th>0</th>\n",
              "      <td>Romeo Juliet</td>\n",
              "      <td>0.812896</td>\n",
              "    </tr>\n",
              "    <tr>\n",
              "      <th>1</th>\n",
              "      <td>Juliet O happy dagger</td>\n",
              "      <td>0.812896</td>\n",
              "    </tr>\n",
              "    <tr>\n",
              "      <th>2</th>\n",
              "      <td>Romeo died dagger</td>\n",
              "      <td>0.812896</td>\n",
              "    </tr>\n",
              "    <tr>\n",
              "      <th>3</th>\n",
              "      <td>Live free or die New-Hampshire motto</td>\n",
              "      <td>0.582409</td>\n",
              "    </tr>\n",
              "    <tr>\n",
              "      <th>4</th>\n",
              "      <td>Did you know New-Hampshire New-England</td>\n",
              "      <td>0.582409</td>\n",
              "    </tr>\n",
              "    <tr>\n",
              "      <th>5</th>\n",
              "      <td>Romeo in Japan</td>\n",
              "      <td>0.812896</td>\n",
              "    </tr>\n",
              "  </tbody>\n",
              "</table>\n",
              "</div>\n",
              "      <button class=\"colab-df-convert\" onclick=\"convertToInteractive('df-369203f6-62e4-41b7-b6ef-1e7036a67a96')\"\n",
              "              title=\"Convert this dataframe to an interactive table.\"\n",
              "              style=\"display:none;\">\n",
              "        \n",
              "  <svg xmlns=\"http://www.w3.org/2000/svg\" height=\"24px\"viewBox=\"0 0 24 24\"\n",
              "       width=\"24px\">\n",
              "    <path d=\"M0 0h24v24H0V0z\" fill=\"none\"/>\n",
              "    <path d=\"M18.56 5.44l.94 2.06.94-2.06 2.06-.94-2.06-.94-.94-2.06-.94 2.06-2.06.94zm-11 1L8.5 8.5l.94-2.06 2.06-.94-2.06-.94L8.5 2.5l-.94 2.06-2.06.94zm10 10l.94 2.06.94-2.06 2.06-.94-2.06-.94-.94-2.06-.94 2.06-2.06.94z\"/><path d=\"M17.41 7.96l-1.37-1.37c-.4-.4-.92-.59-1.43-.59-.52 0-1.04.2-1.43.59L10.3 9.45l-7.72 7.72c-.78.78-.78 2.05 0 2.83L4 21.41c.39.39.9.59 1.41.59.51 0 1.02-.2 1.41-.59l7.78-7.78 2.81-2.81c.8-.78.8-2.07 0-2.86zM5.41 20L4 18.59l7.72-7.72 1.47 1.35L5.41 20z\"/>\n",
              "  </svg>\n",
              "      </button>\n",
              "      \n",
              "  <style>\n",
              "    .colab-df-container {\n",
              "      display:flex;\n",
              "      flex-wrap:wrap;\n",
              "      gap: 12px;\n",
              "    }\n",
              "\n",
              "    .colab-df-convert {\n",
              "      background-color: #E8F0FE;\n",
              "      border: none;\n",
              "      border-radius: 50%;\n",
              "      cursor: pointer;\n",
              "      display: none;\n",
              "      fill: #1967D2;\n",
              "      height: 32px;\n",
              "      padding: 0 0 0 0;\n",
              "      width: 32px;\n",
              "    }\n",
              "\n",
              "    .colab-df-convert:hover {\n",
              "      background-color: #E2EBFA;\n",
              "      box-shadow: 0px 1px 2px rgba(60, 64, 67, 0.3), 0px 1px 3px 1px rgba(60, 64, 67, 0.15);\n",
              "      fill: #174EA6;\n",
              "    }\n",
              "\n",
              "    [theme=dark] .colab-df-convert {\n",
              "      background-color: #3B4455;\n",
              "      fill: #D2E3FC;\n",
              "    }\n",
              "\n",
              "    [theme=dark] .colab-df-convert:hover {\n",
              "      background-color: #434B5C;\n",
              "      box-shadow: 0px 1px 3px 1px rgba(0, 0, 0, 0.15);\n",
              "      filter: drop-shadow(0px 1px 2px rgba(0, 0, 0, 0.3));\n",
              "      fill: #FFFFFF;\n",
              "    }\n",
              "  </style>\n",
              "\n",
              "      <script>\n",
              "        const buttonEl =\n",
              "          document.querySelector('#df-369203f6-62e4-41b7-b6ef-1e7036a67a96 button.colab-df-convert');\n",
              "        buttonEl.style.display =\n",
              "          google.colab.kernel.accessAllowed ? 'block' : 'none';\n",
              "\n",
              "        async function convertToInteractive(key) {\n",
              "          const element = document.querySelector('#df-369203f6-62e4-41b7-b6ef-1e7036a67a96');\n",
              "          const dataTable =\n",
              "            await google.colab.kernel.invokeFunction('convertToInteractive',\n",
              "                                                     [key], {});\n",
              "          if (!dataTable) return;\n",
              "\n",
              "          const docLinkHtml = 'Like what you see? Visit the ' +\n",
              "            '<a target=\"_blank\" href=https://colab.research.google.com/notebooks/data_table.ipynb>data table notebook</a>'\n",
              "            + ' to learn more about interactive tables.';\n",
              "          element.innerHTML = '';\n",
              "          dataTable['output_type'] = 'display_data';\n",
              "          await google.colab.output.renderOutput(dataTable, element);\n",
              "          const docLink = document.createElement('div');\n",
              "          docLink.innerHTML = docLinkHtml;\n",
              "          element.appendChild(docLink);\n",
              "        }\n",
              "      </script>\n",
              "    </div>\n",
              "  </div>\n",
              "  "
            ]
          },
          "metadata": {},
          "execution_count": 58
        }
      ]
    },
    {
      "cell_type": "code",
      "source": [],
      "metadata": {
        "id": "HVv_FPfN3h6G"
      },
      "execution_count": null,
      "outputs": []
    },
    {
      "cell_type": "code",
      "source": [],
      "metadata": {
        "id": "Rehnwhad3h3P"
      },
      "execution_count": null,
      "outputs": []
    },
    {
      "cell_type": "code",
      "source": [],
      "metadata": {
        "id": "rR3eJyPf3h0J"
      },
      "execution_count": null,
      "outputs": []
    }
  ]
}